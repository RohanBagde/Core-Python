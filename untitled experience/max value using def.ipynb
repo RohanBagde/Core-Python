{
 "cells": [
  {
   "cell_type": "code",
   "execution_count": 8,
   "metadata": {},
   "outputs": [
    {
     "name": "stdout",
     "output_type": "stream",
     "text": [
      "20\n"
     ]
    }
   ],
   "source": [
    "def maximum(a, b):\n",
    "    if a<b :\n",
    "        return b\n",
    "    else :\n",
    "        return a\n",
    "a=10\n",
    "b=20\n",
    "print(maximum(a, b))"
   ]
  },
  {
   "cell_type": "code",
   "execution_count": 9,
   "metadata": {},
   "outputs": [
    {
     "name": "stdout",
     "output_type": "stream",
     "text": [
      "20\n"
     ]
    }
   ],
   "source": [
    "print(maximum(a,b))"
   ]
  },
  {
   "cell_type": "code",
   "execution_count": 17,
   "metadata": {},
   "outputs": [
    {
     "name": "stdout",
     "output_type": "stream",
     "text": [
      "enter a value10\n",
      "enter a value20\n",
      "the maximm value is 20\n"
     ]
    }
   ],
   "source": [
    "def maximum(a, b):\n",
    "    if a<b :\n",
    "        return b\n",
    "    else :\n",
    "        return a\n",
    "a=(int(input(\"enter a value\")))\n",
    "b=(int(input(\"enter a value\")))\n",
    "print(\"the maximm value is\",(maximum(a,b)))\n"
   ]
  },
  {
   "cell_type": "code",
   "execution_count": 22,
   "metadata": {},
   "outputs": [
    {
     "name": "stdout",
     "output_type": "stream",
     "text": [
      "enter a value10\n",
      "enter a value20\n",
      "max value is 20\n"
     ]
    }
   ],
   "source": [
    "#find max value using max fn\n",
    "a=int(input(\"enter a value\"))\n",
    "b=int(input(\"enter a value\"))\n",
    "maximm=max(a,b)\n",
    "print(\"max value is\",(maximm))"
   ]
  },
  {
   "cell_type": "code",
   "execution_count": 24,
   "metadata": {},
   "outputs": [
    {
     "name": "stdout",
     "output_type": "stream",
     "text": [
      "enter a value10\n",
      "enter a value20\n",
      " max value is 20\n"
     ]
    }
   ],
   "source": [
    "#using ternary function\n",
    "\n",
    "a=int(input(\"enter a value\"))\n",
    "b=int(input(\"enter a value\"))\n",
    "print(\" max value is\",(a if a>b else b))"
   ]
  },
  {
   "cell_type": "code",
   "execution_count": null,
   "metadata": {},
   "outputs": [],
   "source": []
  }
 ],
 "metadata": {
  "kernelspec": {
   "display_name": "Python 3",
   "language": "python",
   "name": "python3"
  },
  "language_info": {
   "codemirror_mode": {
    "name": "ipython",
    "version": 3
   },
   "file_extension": ".py",
   "mimetype": "text/x-python",
   "name": "python",
   "nbconvert_exporter": "python",
   "pygments_lexer": "ipython3",
   "version": "3.8.5"
  }
 },
 "nbformat": 4,
 "nbformat_minor": 4
}
