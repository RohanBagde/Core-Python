{
 "cells": [
  {
   "cell_type": "code",
   "execution_count": null,
   "metadata": {},
   "outputs": [],
   "source": [
    "#this program is for adding the 3 subjects and giving reslt total marks,%,grade,stno,stname\n",
    "def result():\n",
    "    \n",
    "        while(True):\n",
    "            stno=int(input(\"enter the student roll number:\"))\n",
    "            stname=input(\"enter the name of student:\")\n",
    "            mmarks=int(input(\"enter the maths marks:\"))\n",
    "            pmarks=int(input(\"enter the physics marks:\"))\n",
    "            cmarks=int(input(\"enter the chemistry marks:\"))\n",
    "            tmarks=(mmarks+pmarks+cmarks)\n",
    "            print(\"student's total marks\",tmarks)\n",
    "            if tmarks>300:\n",
    "                break\n",
    "            else:\n",
    "                if(tmarks<300):\n",
    "                    permarks=(tmarks/300)*100\n",
    "                    print(\"stdents percentage:\",permarks)\n",
    "                if permarks>100:\n",
    "                    print(\"invalid\")\n",
    "                if permarks>=90:\n",
    "                    print(\"A\")\n",
    "                elif permarks>=70:\n",
    "                      print(\"B\")\n",
    "                elif permarks>=60:\n",
    "                    print(\"c\")\n",
    "                elif permarks>=50:\n",
    "                    print(\"D\")\n",
    "                elif permarks<=35:\n",
    "                    print(\"fail\")\n",
    "                elif tmarks>300:\n",
    "                    print(\"invalid marks \")\n",
    "result()    \n",
    "\n"
   ]
  }
 ],
 "metadata": {
  "kernelspec": {
   "display_name": "Python 3 (ipykernel)",
   "language": "python",
   "name": "python3"
  },
  "language_info": {
   "codemirror_mode": {
    "name": "ipython",
    "version": 3
   },
   "file_extension": ".py",
   "mimetype": "text/x-python",
   "name": "python",
   "nbconvert_exporter": "python",
   "pygments_lexer": "ipython3",
   "version": "3.8.5"
  }
 },
 "nbformat": 4,
 "nbformat_minor": 4
}
