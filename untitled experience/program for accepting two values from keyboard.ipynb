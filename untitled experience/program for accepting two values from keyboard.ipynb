{
 "cells": [
  {
   "cell_type": "code",
   "execution_count": 1,
   "metadata": {},
   "outputs": [
    {
     "name": "stdout",
     "output_type": "stream",
     "text": [
      "enter first value\n",
      "40\n",
      "enter second value\n",
      "80\n",
      "value of x1=40.0\n",
      "value of x2=80.0\n",
      "value of x3=120.0\n"
     ]
    }
   ],
   "source": [
    "#dynsum ex1 \n",
    "#kvr example\n",
    "\n",
    "\n",
    "\n",
    "print(\"enter first value\")\n",
    "a=input()\n",
    "print(\"enter second value\")\n",
    "b=input()\n",
    "x1=float(a)\n",
    "x2=float(b)\n",
    "x3=x1+x2\n",
    "print(\"value of x1={}\".format(x1))\n",
    "print(\"value of x2={}\".format(x2))\n",
    "print(\"value of x3={}\".format(x3))"
   ]
  },
  {
   "cell_type": "code",
   "execution_count": 4,
   "metadata": {},
   "outputs": [
    {
     "name": "stdout",
     "output_type": "stream",
     "text": [
      "enter first value :  40\n",
      "enter second value : 0\n",
      "total sum 40.0\n"
     ]
    }
   ],
   "source": [
    "my example\n",
    "\n",
    "\n",
    "\n",
    "a=float(input(\"enter first value :  \"))\n",
    "b=float(input(\"enter second value : \"))\n",
    "c=a+b\n",
    "print(\"total sum\", (c))\n"
   ]
  },
  {
   "cell_type": "code",
   "execution_count": 7,
   "metadata": {},
   "outputs": [
    {
     "name": "stdout",
     "output_type": "stream",
     "text": [
      "enter two values \n",
      "12\n",
      "12\n",
      "total values of 12.0 + 12.0 = 24.0\n"
     ]
    }
   ],
   "source": [
    "#dynamic sum ex2\n",
    "#kvr example\n",
    "print(\"enter two values \")\n",
    "x1=float(input())\n",
    "x2=float(input())\n",
    "x3=x1+x2\n",
    "print(\"total values of {} + {} = {}\".format(x1,x2,x3))\n",
    "\n"
   ]
  },
  {
   "cell_type": "code",
   "execution_count": 8,
   "metadata": {},
   "outputs": [
    {
     "name": "stdout",
     "output_type": "stream",
     "text": [
      "enter two values \n",
      "10\n",
      "12\n"
     ]
    },
    {
     "ename": "NameError",
     "evalue": "name 'x' is not defined",
     "output_type": "error",
     "traceback": [
      "\u001b[1;31m---------------------------------------------------------------------------\u001b[0m",
      "\u001b[1;31mNameError\u001b[0m                                 Traceback (most recent call last)",
      "\u001b[1;32m<ipython-input-8-93e4cac8fd33>\u001b[0m in \u001b[0;36m<module>\u001b[1;34m\u001b[0m\n\u001b[0;32m      3\u001b[0m \u001b[0mx2\u001b[0m\u001b[1;33m=\u001b[0m\u001b[0mfloat\u001b[0m\u001b[1;33m(\u001b[0m\u001b[0minput\u001b[0m\u001b[1;33m(\u001b[0m\u001b[1;33m)\u001b[0m\u001b[1;33m)\u001b[0m\u001b[1;33m\u001b[0m\u001b[1;33m\u001b[0m\u001b[0m\n\u001b[0;32m      4\u001b[0m \u001b[0mx3\u001b[0m\u001b[1;33m=\u001b[0m\u001b[0mx1\u001b[0m\u001b[1;33m+\u001b[0m\u001b[0mx2\u001b[0m\u001b[1;33m\u001b[0m\u001b[1;33m\u001b[0m\u001b[0m\n\u001b[1;32m----> 5\u001b[1;33m \u001b[0mprint\u001b[0m\u001b[1;33m(\u001b[0m\u001b[1;34m\"total values of {} + {} = {}\"\u001b[0m\u001b[1;33m.\u001b[0m\u001b[0mformat\u001b[0m\u001b[1;33m(\u001b[0m\u001b[0mx\u001b[0m\u001b[1;33m,\u001b[0m\u001b[0mx2\u001b[0m\u001b[1;33m,\u001b[0m\u001b[0mx3\u001b[0m\u001b[1;33m)\u001b[0m\u001b[1;33m)\u001b[0m\u001b[1;33m\u001b[0m\u001b[1;33m\u001b[0m\u001b[0m\n\u001b[0m",
      "\u001b[1;31mNameError\u001b[0m: name 'x' is not defined"
     ]
    }
   ],
   "source": [
    "print(\"enter two values \")\n",
    "x1=float(input())\n",
    "x2=float(input())\n",
    "x3=x1+x2\n",
    "print(\"total values of {} + {} = {}\".format(x,x2,x3))\n"
   ]
  },
  {
   "cell_type": "code",
   "execution_count": 16,
   "metadata": {},
   "outputs": [
    {
     "ename": "TypeError",
     "evalue": "'float' object is not callable",
     "output_type": "error",
     "traceback": [
      "\u001b[1;31m---------------------------------------------------------------------------\u001b[0m",
      "\u001b[1;31mTypeError\u001b[0m                                 Traceback (most recent call last)",
      "\u001b[1;32m<ipython-input-16-84a1e5e62093>\u001b[0m in \u001b[0;36m<module>\u001b[1;34m\u001b[0m\n\u001b[0;32m      1\u001b[0m \u001b[1;31m#kvr example for adding two values type(3)\u001b[0m\u001b[1;33m\u001b[0m\u001b[1;33m\u001b[0m\u001b[1;33m\u001b[0m\u001b[0m\n\u001b[0;32m      2\u001b[0m \u001b[1;31m#sum exmple (3)\u001b[0m\u001b[1;33m\u001b[0m\u001b[1;33m\u001b[0m\u001b[1;33m\u001b[0m\u001b[0m\n\u001b[1;32m----> 3\u001b[1;33m \u001b[0mprint\u001b[0m\u001b[1;33m(\u001b[0m\u001b[1;34m\"enter two values : \"\u001b[0m\u001b[1;33m)\u001b[0m\u001b[1;33m\u001b[0m\u001b[1;33m\u001b[0m\u001b[0m\n\u001b[0m\u001b[0;32m      4\u001b[0m \u001b[0mx3\u001b[0m\u001b[1;33m=\u001b[0m \u001b[0mfloat\u001b[0m\u001b[1;33m(\u001b[0m\u001b[0minput\u001b[0m\u001b[1;33m(\u001b[0m\u001b[1;33m)\u001b[0m\u001b[1;33m)\u001b[0m \u001b[1;33m+\u001b[0m \u001b[0mfloat\u001b[0m\u001b[1;33m(\u001b[0m\u001b[0minput\u001b[0m\u001b[1;33m(\u001b[0m\u001b[1;33m)\u001b[0m\u001b[1;33m)\u001b[0m\u001b[1;33m\u001b[0m\u001b[1;33m\u001b[0m\u001b[0m\n\u001b[0;32m      5\u001b[0m \u001b[0mprint\u001b[0m\u001b[1;33m(\u001b[0m\u001b[0mx3\u001b[0m\u001b[1;33m)\u001b[0m\u001b[1;33m\u001b[0m\u001b[1;33m\u001b[0m\u001b[0m\n",
      "\u001b[1;31mTypeError\u001b[0m: 'float' object is not callable"
     ]
    }
   ],
   "source": []
  },
  {
   "cell_type": "code",
   "execution_count": 2,
   "metadata": {},
   "outputs": [
    {
     "name": "stdout",
     "output_type": "stream",
     "text": [
      "enter two values:\n",
      "45\n",
      "12\n",
      "sum=57.0\n"
     ]
    }
   ],
   "source": [
    "#kvr example for adding two values type(3)\n",
    "#sum exmple (3)\n",
    "\n",
    "print(\"enter two values:\")\n",
    "x3= float(input())+float(input())\n",
    "print(\"sum={}\".format(x3))"
   ]
  },
  {
   "cell_type": "code",
   "execution_count": 4,
   "metadata": {},
   "outputs": [
    {
     "name": "stdout",
     "output_type": "stream",
     "text": [
      "enter two values:\n",
      "10\n",
      "40\n",
      "10.0+40.0=50.0\n"
     ]
    }
   ],
   "source": [
    "#kvr 4th example for adding two values \n",
    "\n",
    "print(\"enter two values:\")\n",
    "x1=float(input())\n",
    "x2=float(input())\n",
    "print(\"{}+{}={}\".format(x1,x2,x1+x2))"
   ]
  },
  {
   "cell_type": "code",
   "execution_count": 5,
   "metadata": {},
   "outputs": [
    {
     "name": "stdout",
     "output_type": "stream",
     "text": [
      "enter two values:\n",
      "10\n",
      "40\n",
      "50.0\n"
     ]
    }
   ],
   "source": [
    "#my 4th example for adding two values\n",
    "print(\"enter two values:\")\n",
    "x1=float(input())\n",
    "x2=float(input())\n",
    "print(x1+x2)"
   ]
  },
  {
   "cell_type": "code",
   "execution_count": 6,
   "metadata": {},
   "outputs": [
    {
     "name": "stdout",
     "output_type": "stream",
     "text": [
      "enter first values:10\n",
      "enter second values:40\n",
      "10.0+40.0=50.0\n"
     ]
    }
   ],
   "source": [
    "#kvr 5th example for adding two values\n",
    "a=(input(\"enter first values:\"))\n",
    "b=(input(\"enter second values:\"))\n",
    "x=float(a)\n",
    "y=float(b)\n",
    "print(\"{}+{}={}\".format(x,y,x+y))"
   ]
  },
  {
   "cell_type": "code",
   "execution_count": 7,
   "metadata": {},
   "outputs": [
    {
     "name": "stdout",
     "output_type": "stream",
     "text": [
      "enter first values:10\n",
      "enter second values:40\n",
      "50.0\n"
     ]
    }
   ],
   "source": [
    "#my 5th example for adding two values\n",
    "a=(input(\"enter first values:\"))\n",
    "b=(input(\"enter second values:\"))\n",
    "x=float(a)\n",
    "y=float(b)\n",
    "print(x+y)"
   ]
  },
  {
   "cell_type": "code",
   "execution_count": null,
   "metadata": {},
   "outputs": [],
   "source": []
  }
 ],
 "metadata": {
  "kernelspec": {
   "display_name": "Python 3",
   "language": "python",
   "name": "python3"
  },
  "language_info": {
   "codemirror_mode": {
    "name": "ipython",
    "version": 3
   },
   "file_extension": ".py",
   "mimetype": "text/x-python",
   "name": "python",
   "nbconvert_exporter": "python",
   "pygments_lexer": "ipython3",
   "version": "3.8.5"
  }
 },
 "nbformat": 4,
 "nbformat_minor": 4
}
