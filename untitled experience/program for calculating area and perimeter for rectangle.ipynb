{
 "cells": [
  {
   "cell_type": "code",
   "execution_count": 1,
   "metadata": {},
   "outputs": [
    {
     "name": "stdout",
     "output_type": "stream",
     "text": [
      "enter length:40\n",
      "enter breadth:60\n",
      "length=40.0\n",
      "breadth=60.0\n",
      "area of rectangle=2400.0\n",
      "perimeter of rectangle=200.0\n"
     ]
    }
   ],
   "source": [
    "#KVR EXAMPLE FOR CALCULATING AREA AND PERIMETER\n",
    "\n",
    "\n",
    "\n",
    "l=float(input(\"enter length:\"))\n",
    "b=float(input(\"enter breadth:\"))\n",
    "ar=l*b\n",
    "pr=2*(l+b)\n",
    "print(\"length={}\".format(l))\n",
    "print(\"breadth={}\".format(b))\n",
    "print(\"area of rectangle={}\".format(ar))\n",
    "print(\"perimeter of rectangle={}\".format(pr))\n"
   ]
  },
  {
   "cell_type": "code",
   "execution_count": 2,
   "metadata": {
    "scrolled": true
   },
   "outputs": [
    {
     "name": "stdout",
     "output_type": "stream",
     "text": [
      "enter the length40\n",
      "enter the breadth60\n",
      "this is an area of rectangle = 2400.0\n",
      "this is an perimeter of rectangle = 200.0\n"
     ]
    }
   ],
   "source": [
    "#MY EXAMPLE FOR CALCULATING AREA AND PERIMETER\n",
    "\n",
    "length=float(input(\"enter the length\"))\n",
    "breadth=float(input(\"enter the breadth\"))\n",
    "area=length*breadth\n",
    "perimeter=2*(length+breadth)\n",
    "print(\"this is an area of rectangle =\",area)\n",
    "print(\"this is an perimeter of rectangle =\",perimeter)\n"
   ]
  },
  {
   "cell_type": "code",
   "execution_count": null,
   "metadata": {},
   "outputs": [],
   "source": []
  }
 ],
 "metadata": {
  "kernelspec": {
   "display_name": "Python 3",
   "language": "python",
   "name": "python3"
  },
  "language_info": {
   "codemirror_mode": {
    "name": "ipython",
    "version": 3
   },
   "file_extension": ".py",
   "mimetype": "text/x-python",
   "name": "python",
   "nbconvert_exporter": "python",
   "pygments_lexer": "ipython3",
   "version": "3.8.5"
  }
 },
 "nbformat": 4,
 "nbformat_minor": 4
}
