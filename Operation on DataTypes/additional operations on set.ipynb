{
 "cells": [
  {
   "cell_type": "code",
   "execution_count": 11,
   "metadata": {},
   "outputs": [
    {
     "name": "stdout",
     "output_type": "stream",
     "text": [
      "{4.45, 'kvr', 12, 'rohan', 'python'} <class 'set'>\n",
      "{4.45, 'shashank', 'kvr', 12, 'rohan', 'python'}\n",
      "{'rrr', 4.45, 'rajesh', 'shashank', 'kvr', 12, 45, 'rohan', 'python'}\n",
      "{'rohan', 4.45, 12}\n",
      "{4.45, 'shashank', 12, 'rohan', 'python'}\n",
      "{1, 2, 3, 4.45, 4, 'shashank', 12, 'rohan', 'python'}\n"
     ]
    }
   ],
   "source": [
    "s={\"rohan\",12,4.45,\"kvr\",\"python\"}\n",
    "v={\"rohan\",12,4.45,\"kvr\",\"rrr\",45,\"rajesh\"}\n",
    "print(s,type(s))\n",
    "s.add(\"shashank\")\n",
    "print(s)\n",
    "s.remove(\"kvr\")\n",
    "print(s.union(v))\n",
    "print(s.intersection(v))\n",
    "print(s)\n",
    "s.update({1,2,3,4})\n",
    "print(s)"
   ]
  },
  {
   "cell_type": "code",
   "execution_count": null,
   "metadata": {},
   "outputs": [],
   "source": []
  }
 ],
 "metadata": {
  "kernelspec": {
   "display_name": "Python 3",
   "language": "python",
   "name": "python3"
  },
  "language_info": {
   "codemirror_mode": {
    "name": "ipython",
    "version": 3
   },
   "file_extension": ".py",
   "mimetype": "text/x-python",
   "name": "python",
   "nbconvert_exporter": "python",
   "pygments_lexer": "ipython3",
   "version": "3.8.5"
  }
 },
 "nbformat": 4,
 "nbformat_minor": 4
}
