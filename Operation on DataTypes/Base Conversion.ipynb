{
 "cells": [
  {
   "cell_type": "markdown",
   "metadata": {},
   "source": [
    "# Base Conversion Functions"
   ]
  },
  {
   "cell_type": "markdown",
   "metadata": {},
   "source": [
    "a) bin()\n",
    "\n",
    "b) oct()\n",
    "\n",
    "c) hex()"
   ]
  },
  {
   "cell_type": "markdown",
   "metadata": {},
   "source": [
    "# a) bin():"
   ]
  },
  {
   "cell_type": "code",
   "execution_count": 1,
   "metadata": {},
   "outputs": [
    {
     "ename": "SyntaxError",
     "evalue": "unmatched ')' (<ipython-input-1-66d7ac9bc351>, line 1)",
     "output_type": "error",
     "traceback": [
      "\u001b[1;36m  File \u001b[1;32m\"<ipython-input-1-66d7ac9bc351>\"\u001b[1;36m, line \u001b[1;32m1\u001b[0m\n\u001b[1;33m    a) bin():\u001b[0m\n\u001b[1;37m     ^\u001b[0m\n\u001b[1;31mSyntaxError\u001b[0m\u001b[1;31m:\u001b[0m unmatched ')'\n"
     ]
    }
   ],
   "source": [
    "\n",
    "-------------\n",
    "=>The purpose of bin() is that to convert One Number System value into Binary Number System Value.\n",
    "\t\t\n",
    "Syntax:             varname=bin(Decimal / Octal / Hexa Decimal )\n",
    "-----------\n",
    "Example:\n",
    "--------------\n",
    ">>> a=10\n",
    ">>> b=bin(a)\n",
    ">>> print(b)--------------------0b1010\n",
    ">>> a=15\n",
    ">>> b=bin(a)\n",
    ">>> print(b)------------------0b1111\n",
    ">>> a=0o16\n",
    ">>> b=bin(a)\n",
    ">>> print(b)----------------------0b1110\n",
    ">>> a=0xAB\n",
    ">>> b=bin(a)\n",
    ">>> print(b)----------------0b10101011\n",
    ">>> a=0xA\n",
    ">>> b=bin(a)\n",
    ">>> print(b)------------------0b10101011"
   ]
  },
  {
   "cell_type": "markdown",
   "metadata": {},
   "source": [
    "# b) oct():\n",
    "-------------"
   ]
  },
  {
   "cell_type": "code",
   "execution_count": null,
   "metadata": {},
   "outputs": [],
   "source": [
    "\n",
    "=>The purpose of oct() is that to convert One Number System value into Octal Number System Value.\n",
    "\t\t\n",
    "Syntax:             varname=oct(Decimal / Binary / Hexa Decimal )\n",
    "\n",
    "Examples:\n",
    "--------------------\n",
    ">>> a=14\n",
    ">>> b=oct(a)\n",
    ">>> print(b)------------0o16\n",
    ">>> a=0b1110\n",
    ">>> b=oct(a)\n",
    ">>> print(b)------------0o16\n",
    ">>> a=0XF\n",
    ">>> b=oct(a)\n",
    ">>> print(b)-------------0o17"
   ]
  },
  {
   "cell_type": "markdown",
   "metadata": {},
   "source": [
    "# c) hex():"
   ]
  },
  {
   "cell_type": "code",
   "execution_count": null,
   "metadata": {},
   "outputs": [],
   "source": [
    "=>The purpose of hex() is that to convert One Number System value into Hexa Decimal  Number System Value.\n",
    "\t\t\n",
    "Syntax:             varname=hex(Decimal / Binary / Octal  )\n",
    "\n",
    "Examples:\n",
    "-----------------\n",
    ">>> a=15\n",
    ">>> b=hex(a)\n",
    ">>> print(b)-----------0xf\n",
    ">>> a=0o16\n",
    ">>> b=hex(a)\n",
    ">>> print(b)------------0xe\n",
    ">>> a=0b1011\n",
    ">>> b=hex(a)\n",
    ">>> print(b)----------0xb"
   ]
  }
 ],
 "metadata": {
  "kernelspec": {
   "display_name": "Python 3",
   "language": "python",
   "name": "python3"
  },
  "language_info": {
   "codemirror_mode": {
    "name": "ipython",
    "version": 3
   },
   "file_extension": ".py",
   "mimetype": "text/x-python",
   "name": "python",
   "nbconvert_exporter": "python",
   "pygments_lexer": "ipython3",
   "version": "3.8.5"
  }
 },
 "nbformat": 4,
 "nbformat_minor": 4
}
