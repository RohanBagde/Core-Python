{
 "cells": [
  {
   "cell_type": "code",
   "execution_count": 10,
   "metadata": {},
   "outputs": [
    {
     "ename": "SyntaxError",
     "evalue": "invalid syntax (<ipython-input-10-a06d3dae70d5>, line 4)",
     "output_type": "error",
     "traceback": [
      "\u001b[1;36m  File \u001b[1;32m\"<ipython-input-10-a06d3dae70d5>\"\u001b[1;36m, line \u001b[1;32m4\u001b[0m\n\u001b[1;33m    if (a<=100):\u001b[0m\n\u001b[1;37m               ^\u001b[0m\n\u001b[1;31mSyntaxError\u001b[0m\u001b[1;31m:\u001b[0m invalid syntax\n"
     ]
    }
   ],
   "source": [
    "#electricity \n",
    "\n",
    "a=int(input(\"your total unit\")\n",
    "if(a<=100):\n",
    "      print(\"no charge\")\n",
    "else:\n",
    "      \n",
    "if (a>=100) and (a>=200):\n",
    "      i=5\n",
    "      print(\"your total electricity bill is : \".format(a,i,a*i))\n",
    "      \n",
    "      \n",
    "      \n",
    "         \n",
    "        \n",
    "        "
   ]
  },
  {
   "cell_type": "code",
   "execution_count": 25,
   "metadata": {},
   "outputs": [
    {
     "name": "stdout",
     "output_type": "stream",
     "text": [
      "your total unit:222\n",
      "your total electricity bill is =2220 \n"
     ]
    }
   ],
   "source": [
    "a=int(input(\"your total unit:\"))\n",
    "if(a<=100):\n",
    "      print(\"no charge\")\n",
    "elif (a>=100) and (a<=200):\n",
    "    i=5 \n",
    "    k=i*a\n",
    "    print(\"your total electricity bill is ={} \".format(k))\n",
    "elif (a>200):\n",
    "    j=10\n",
    "    print(\"your total electricity bill is ={} \".format(a*j))\n",
    "            \n",
    "        "
   ]
  },
  {
   "cell_type": "code",
   "execution_count": null,
   "metadata": {},
   "outputs": [],
   "source": [
    "a=int(input)"
   ]
  },
  {
   "cell_type": "code",
   "execution_count": 26,
   "metadata": {},
   "outputs": [
    {
     "name": "stdout",
     "output_type": "stream",
     "text": [
      "['a', 'b', 'c', 'd', 'e']\n"
     ]
    }
   ],
   "source": [
    "mystr=['a','b','c','d','e']\n",
    "print(str(mystr))"
   ]
  },
  {
   "cell_type": "code",
   "execution_count": null,
   "metadata": {},
   "outputs": [],
   "source": []
  }
 ],
 "metadata": {
  "kernelspec": {
   "display_name": "Python 3",
   "language": "python",
   "name": "python3"
  },
  "language_info": {
   "codemirror_mode": {
    "name": "ipython",
    "version": 3
   },
   "file_extension": ".py",
   "mimetype": "text/x-python",
   "name": "python",
   "nbconvert_exporter": "python",
   "pygments_lexer": "ipython3",
   "version": "3.8.5"
  }
 },
 "nbformat": 4,
 "nbformat_minor": 4
}
