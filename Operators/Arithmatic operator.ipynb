{
 "cells": [
  {
   "cell_type": "code",
   "execution_count": 1,
   "metadata": {},
   "outputs": [
    {
     "name": "stdout",
     "output_type": "stream",
     "text": [
      "30\n"
     ]
    }
   ],
   "source": [
    "#addition (+)\n",
    "\n",
    "\n",
    "a=10\n",
    "b=20\n",
    "print(a+b)"
   ]
  },
  {
   "cell_type": "code",
   "execution_count": 2,
   "metadata": {},
   "outputs": [
    {
     "name": "stdout",
     "output_type": "stream",
     "text": [
      "-10\n"
     ]
    }
   ],
   "source": [
    "#substraction (-)\n",
    "\n",
    "\n",
    "a=10\n",
    "b=20\n",
    "print(a-b)"
   ]
  },
  {
   "cell_type": "code",
   "execution_count": 3,
   "metadata": {},
   "outputs": [
    {
     "name": "stdout",
     "output_type": "stream",
     "text": [
      "200\n"
     ]
    }
   ],
   "source": [
    "#multiplication (*)\n",
    "\n",
    "\n",
    "a=10\n",
    "b=20\n",
    "print(a*b)"
   ]
  },
  {
   "cell_type": "code",
   "execution_count": 5,
   "metadata": {},
   "outputs": [
    {
     "name": "stdout",
     "output_type": "stream",
     "text": [
      "0.5\n"
     ]
    }
   ],
   "source": [
    "#division (/)\n",
    "\n",
    "\n",
    "a=10\n",
    "b=20\n",
    "print(a/b)"
   ]
  },
  {
   "cell_type": "code",
   "execution_count": 6,
   "metadata": {},
   "outputs": [
    {
     "name": "stdout",
     "output_type": "stream",
     "text": [
      "0\n"
     ]
    }
   ],
   "source": [
    "#floor division (//)\n",
    "\n",
    "\n",
    "a=10\n",
    "b=20\n",
    "print(a//b)"
   ]
  },
  {
   "cell_type": "code",
   "execution_count": 7,
   "metadata": {},
   "outputs": [
    {
     "name": "stdout",
     "output_type": "stream",
     "text": [
      "3\n"
     ]
    }
   ],
   "source": [
    "#floor division (//)\n",
    "\n",
    "\n",
    "a=10\n",
    "b=3\n",
    "print(a//b)"
   ]
  },
  {
   "cell_type": "code",
   "execution_count": 8,
   "metadata": {},
   "outputs": [
    {
     "name": "stdout",
     "output_type": "stream",
     "text": [
      "10\n"
     ]
    }
   ],
   "source": [
    "#modulo division (%)\n",
    "\n",
    "\n",
    "a=10\n",
    "b=20\n",
    "print(a%b)"
   ]
  },
  {
   "cell_type": "code",
   "execution_count": 9,
   "metadata": {},
   "outputs": [
    {
     "name": "stdout",
     "output_type": "stream",
     "text": [
      "1\n"
     ]
    }
   ],
   "source": [
    "#modulo division (%)\n",
    "\n",
    "\n",
    "a=10\n",
    "b=3\n",
    "print(a%b)"
   ]
  },
  {
   "cell_type": "code",
   "execution_count": 10,
   "metadata": {},
   "outputs": [
    {
     "name": "stdout",
     "output_type": "stream",
     "text": [
      "1000\n"
     ]
    }
   ],
   "source": [
    "#exponential (**) for powering values\n",
    "\n",
    "\n",
    "a=10\n",
    "b=3\n",
    "print(a**b)"
   ]
  },
  {
   "cell_type": "code",
   "execution_count": 11,
   "metadata": {},
   "outputs": [
    {
     "name": "stdout",
     "output_type": "stream",
     "text": [
      "8\n"
     ]
    }
   ],
   "source": [
    "#exponential (**) for powering values\n",
    "\n",
    "\n",
    "a=2\n",
    "b=3\n",
    "print(a**b)"
   ]
  },
  {
   "cell_type": "code",
   "execution_count": 12,
   "metadata": {},
   "outputs": [
    {
     "name": "stdout",
     "output_type": "stream",
     "text": [
      "enter first value:10\n",
      "enter second value:3\n",
      "13\n",
      "7\n",
      "30\n",
      "3.3333333333333335\n",
      "3\n",
      "1\n",
      "1000\n"
     ]
    }
   ],
   "source": [
    "#ALL ARITHMATICS OPERATION PERFORMS IN ONCE\n",
    "\n",
    "a=int(input(\"enter first value:\"))\n",
    "b=int(input(\"enter second value:\"))\n",
    "print(a+b)  #  addition\n",
    "print(a-b)  #  substracction\n",
    "print(a*b)  #  multiplication\n",
    "print(a/b)  #  division\n",
    "print(a//b) #  floor division\n",
    "print(a%b)  #  modulus\n",
    "print(a**b) # exponential"
   ]
  },
  {
   "cell_type": "code",
   "execution_count": 15,
   "metadata": {},
   "outputs": [
    {
     "name": "stdout",
     "output_type": "stream",
     "text": [
      "enter first value:10\n",
      "enter second value:3\n",
      "addition of two value 10+3=13\n",
      "substraction of two value {}-{}= 7\n",
      "multiplication of two value {}*{}= 30\n",
      "division of two value {}/{}= 3.3333333333333335\n",
      "floor division of two value {}//{}= 3\n",
      "modulus of two value {}/{}= 1\n",
      "powering value {}**{}= 1000\n"
     ]
    }
   ],
   "source": [
    "#ALL ARITHMATICS OPERATION PERFORMS IN ONCE\n",
    "\n",
    "a=int(input(\"enter first value:\"))\n",
    "b=int(input(\"enter second value:\"))\n",
    "print(\"addition of two value {}+{}={}\".format(a,b,a+b))  #  addition\n",
    "print(\"substraction of two value {}-{}=\",a-b)  #  substracction\n",
    "print(\"multiplication of two value {}*{}=\",a*b)  #  multiplication\n",
    "print(\"division of two value {}/{}=\",a/b)  #  division\n",
    "print(\"floor division of two value {}//{}=\",a//b) #  floor division\n",
    "print(\"modulus of two value {}/{}=\",a%b)  #  modulus\n",
    "print(\"powering value {}**{}=\",a**b) # exponential"
   ]
  },
  {
   "cell_type": "code",
   "execution_count": null,
   "metadata": {},
   "outputs": [],
   "source": []
  }
 ],
 "metadata": {
  "kernelspec": {
   "display_name": "Python 3",
   "language": "python",
   "name": "python3"
  },
  "language_info": {
   "codemirror_mode": {
    "name": "ipython",
    "version": 3
   },
   "file_extension": ".py",
   "mimetype": "text/x-python",
   "name": "python",
   "nbconvert_exporter": "python",
   "pygments_lexer": "ipython3",
   "version": "3.8.5"
  }
 },
 "nbformat": 4,
 "nbformat_minor": 4
}
