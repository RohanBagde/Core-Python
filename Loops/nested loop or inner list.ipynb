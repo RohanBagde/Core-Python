{
 "cells": [
  {
   "cell_type": "markdown",
   "metadata": {},
   "source": [
    "# inner loop"
   ]
  },
  {
   "cell_type": "code",
   "execution_count": 8,
   "metadata": {},
   "outputs": [
    {
     "name": "stdout",
     "output_type": "stream",
     "text": [
      "0 1 inner loop\n",
      "0 2 inner loop\n",
      "0 3 inner loop\n",
      "outer loop\n",
      "1 1 inner loop\n",
      "1 2 inner loop\n",
      "1 3 inner loop\n",
      "outer loop\n",
      "2 1 inner loop\n",
      "2 2 inner loop\n",
      "2 3 inner loop\n",
      "outer loop\n",
      "3 1 inner loop\n",
      "3 2 inner loop\n",
      "3 3 inner loop\n",
      "outer loop\n"
     ]
    }
   ],
   "source": [
    "#inner loop ex1\n",
    "for i in range (0,4):\n",
    "    for j in range (1,4):\n",
    "        print( i, j, end=\" \")\n",
    "        print(\"inner loop\")\n",
    "    print(\"outer loop\")    \n",
    "        "
   ]
  },
  {
   "cell_type": "markdown",
   "metadata": {},
   "source": [
    "# nested loop using while"
   ]
  },
  {
   "cell_type": "code",
   "execution_count": null,
   "metadata": {},
   "outputs": [],
   "source": [
    "i=0\n",
    "while(0<10):\n",
    "    print(\"hello\")"
   ]
  }
 ],
 "metadata": {
  "kernelspec": {
   "display_name": "Python 3",
   "language": "python",
   "name": "python3"
  },
  "language_info": {
   "codemirror_mode": {
    "name": "ipython",
    "version": 3
   },
   "file_extension": ".py",
   "mimetype": "text/x-python",
   "name": "python",
   "nbconvert_exporter": "python",
   "pygments_lexer": "ipython3",
   "version": "3.8.5"
  }
 },
 "nbformat": 4,
 "nbformat_minor": 4
}
