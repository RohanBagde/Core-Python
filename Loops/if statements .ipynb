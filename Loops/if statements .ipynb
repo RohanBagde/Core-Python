{
 "cells": [
  {
   "cell_type": "markdown",
   "metadata": {},
   "source": [
    "# If Condition"
   ]
  },
  {
   "cell_type": "code",
   "execution_count": 1,
   "metadata": {},
   "outputs": [
    {
     "name": "stdout",
     "output_type": "stream",
     "text": [
      "invalid input try later\n"
     ]
    }
   ],
   "source": [
    "#SIMPLE IF STATEMENT \n",
    "\n",
    "a=40\n",
    "b=45\n",
    "if a+b < 100 :\n",
    "    print(\"invalid input try later\")"
   ]
  },
  {
   "cell_type": "code",
   "execution_count": 3,
   "metadata": {},
   "outputs": [
    {
     "name": "stdout",
     "output_type": "stream",
     "text": [
      "do you have ticket ?nj\n",
      "go to home\n"
     ]
    }
   ],
   "source": [
    "tkt=input(\"do you have ticket ?\")\n",
    "if (tkt==\"yes\"):\n",
    "    print(\"you can watch movie\")\n",
    "else:\n",
    "    print(\"go to home\")    "
   ]
  },
  {
   "cell_type": "code",
   "execution_count": 2,
   "metadata": {},
   "outputs": [
    {
     "name": "stdout",
     "output_type": "stream",
     "text": [
      "correct input and total is = 85\n"
     ]
    }
   ],
   "source": [
    "#IF ELSE STATEMENT\n",
    "\n",
    "a=40\n",
    "b=45\n",
    "if (a+b>100):\n",
    "    print(\"invalid input try later\")\n",
    "else:\n",
    "    print(\"correct input and total is =\",a+b)\n",
    "    \n"
   ]
  },
  {
   "cell_type": "code",
   "execution_count": null,
   "metadata": {},
   "outputs": [],
   "source": [
    "#Find out odd even numbers using if else\n",
    "\n",
    "a=int(input(\"please enter the number:-->\"))\n",
    "if (a%2==0):\n",
    "    print(\"number is even\")\n",
    "else:\n",
    "    print(\"number is odd\")\n",
    "      \n",
    "      "
   ]
  },
  {
   "cell_type": "code",
   "execution_count": null,
   "metadata": {},
   "outputs": [],
   "source": []
  },
  {
   "cell_type": "code",
   "execution_count": null,
   "metadata": {},
   "outputs": [],
   "source": [
    "#WRITE A PROGRAM WHICH WILL ACCEPT 3 INTERGER VALUES AND FIND BIGGEST AMONG THEM\n",
    "\n",
    "\n",
    "a=float(input(\"enter the first value   \"))\n",
    "\n",
    "b=float(input(\"enter the second value  \"))\n",
    "\n",
    "c=float(input(\"enter the third value   \"))\n",
    "\n",
    "if a>b and a>c :\n",
    "    print(\"this is the biggest among them:\",a)\n",
    "if b>a and b>c :\n",
    "    print(\"this is the biggest among them:\",b)\n",
    "if c>a and c>b :\n",
    "    print(\"this is the biggest among them:\",c)\n",
    "else:\n",
    "    print(\"values are equal\")\n",
    "    "
   ]
  },
  {
   "cell_type": "code",
   "execution_count": null,
   "metadata": {},
   "outputs": [],
   "source": [
    "import numpy as np\n",
    "print(\"sample\")"
   ]
  },
  {
   "cell_type": "markdown",
   "metadata": {},
   "source": [
    "# Q) PROGRAM WHICH WILL WILL ACCEPT AGE AND DECIDE ELIGIBILITY FOR VOTE"
   ]
  },
  {
   "cell_type": "code",
   "execution_count": null,
   "metadata": {},
   "outputs": [],
   "source": [
    "# using if else\n",
    "\n",
    "a=int(input(\"enter your age :\"))\n",
    "if a in range (18,90):\n",
    "    print(\"you can vote congo\")\n",
    "if a in range (1,18):\n",
    "    print(\"sorry you are under_age you cannot vote \")\n",
    "if a in range (90,111):\n",
    "    \n",
    "    print(\" you are too old go get rest\")\n",
    "    \n",
    "    "
   ]
  },
  {
   "cell_type": "code",
   "execution_count": null,
   "metadata": {},
   "outputs": [],
   "source": [
    "#THIS PROGRAM CHECKS WHETHER YOU HAVE TICKET OR NOT\n",
    "\n",
    "a=input(\"do you have a ticket yes or no  :\")\n",
    "if (a==\"yes\"):\n",
    "    print(\"you can watch movie\")\n",
    "    print(\"you can buy a snacks\")\n",
    "    print(\"enjoy\")\n",
    "else:    \n",
    "    print(\"you dont have ticket\")\n",
    "    print(\"you cannot watch movie\")\n",
    "    print(\"go to home\")"
   ]
  },
  {
   "cell_type": "markdown",
   "metadata": {},
   "source": [
    "# if..elif statement"
   ]
  },
  {
   "cell_type": "code",
   "execution_count": null,
   "metadata": {},
   "outputs": [],
   "source": [
    "#program for accepting digit from kybrd and decide its name\n",
    "\n",
    "a=int(input(\"enter a number\"))\n",
    "if a==0:\n",
    "    print(\"it is zero\")\n",
    "elif a==1:    \n",
    "    print(\"it is one\")\n",
    "elif a==2:\n",
    "    print(\"it is two\")\n",
    "elif a==3:\n",
    "    print(\"it is three\")\n",
    "elif a==4:\n",
    "    print(\"it is four\")\n",
    "elif a==5:\n",
    "    print(\"it is five\")\n",
    "elif a==6:\n",
    "    print(\"it is six\")\n",
    "elif a==7:\n",
    "    print(\"it is seven\")\n",
    "elif a==8:\n",
    "    print(\"it is eight\")\n",
    "elif a==9:\n",
    "    print(\"it is nine\")\n",
    "else:\n",
    "    print(\"it is an number\")"
   ]
  },
  {
   "cell_type": "markdown",
   "metadata": {},
   "source": [
    "# program for confirming that you watch movie or not"
   ]
  },
  {
   "cell_type": "code",
   "execution_count": 2,
   "metadata": {},
   "outputs": [
    {
     "name": "stdout",
     "output_type": "stream",
     "text": [
      "enter your age45\n",
      "you can watch movie\n"
     ]
    }
   ],
   "source": [
    "#take a input first\n",
    "a=int(input(\"enter your age\"))\n",
    "if a < 12 :\n",
    "    print(\"you cannot watch movie go home watch pogo\")\n",
    "if a>18:\n",
    "    print(\"you can watch movie\")\n",
    "else:\n",
    "    print(\"why the hell are you here\")"
   ]
  },
  {
   "cell_type": "code",
   "execution_count": null,
   "metadata": {},
   "outputs": [],
   "source": []
  },
  {
   "cell_type": "code",
   "execution_count": null,
   "metadata": {},
   "outputs": [],
   "source": []
  }
 ],
 "metadata": {
  "kernelspec": {
   "display_name": "Python 3",
   "language": "python",
   "name": "python3"
  },
  "language_info": {
   "codemirror_mode": {
    "name": "ipython",
    "version": 3
   },
   "file_extension": ".py",
   "mimetype": "text/x-python",
   "name": "python",
   "nbconvert_exporter": "python",
   "pygments_lexer": "ipython3",
   "version": "3.8.5"
  }
 },
 "nbformat": 4,
 "nbformat_minor": 4
}
