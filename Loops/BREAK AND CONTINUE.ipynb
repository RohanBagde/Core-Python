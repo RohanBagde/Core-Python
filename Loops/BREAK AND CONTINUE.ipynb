{
 "cells": [
  {
   "cell_type": "markdown",
   "metadata": {},
   "source": [
    "# BREAK    "
   ]
  },
  {
   "cell_type": "code",
   "execution_count": 1,
   "metadata": {},
   "outputs": [
    {
     "name": "stdout",
     "output_type": "stream",
     "text": [
      "0\n",
      "1\n",
      "2\n",
      "3\n",
      "4\n",
      "5\n",
      "6\n",
      "7\n",
      "8\n",
      "9\n"
     ]
    }
   ],
   "source": [
    "for i in range(0,10):\n",
    "    print(i)"
   ]
  },
  {
   "cell_type": "code",
   "execution_count": 2,
   "metadata": {},
   "outputs": [
    {
     "name": "stdout",
     "output_type": "stream",
     "text": [
      "10\n",
      "20\n",
      "other statement\n"
     ]
    }
   ],
   "source": [
    "lst=[10,20,30,40,50,60,70,80]\n",
    "for val in lst:\n",
    "    if (val==30):\n",
    "        break\n",
    "    else:\n",
    "        print(val)\n",
    "else:\n",
    "    print(\"i am from else part\")\n",
    "print(\"other statement\")    "
   ]
  },
  {
   "cell_type": "code",
   "execution_count": 7,
   "metadata": {},
   "outputs": [
    {
     "name": "stdout",
     "output_type": "stream",
     "text": [
      "P\n",
      "Y\n",
      "T\n",
      "H\n",
      "other statement in program\n"
     ]
    }
   ],
   "source": [
    "#BREAKEX2\n",
    "s=\"PYTHON\"\n",
    "i=0\n",
    "while(i<len(s)):\n",
    "    if(s[i] ==\"O\"):\n",
    "        break\n",
    "    print(s[i])\n",
    "    i=i+1\n",
    "else:\n",
    "    print(\"i am from else part\")\n",
    "print(\"other statement in program\")    \n"
   ]
  },
  {
   "cell_type": "markdown",
   "metadata": {},
   "source": [
    "# CONTINUE"
   ]
  },
  {
   "cell_type": "code",
   "execution_count": 9,
   "metadata": {},
   "outputs": [
    {
     "name": "stdout",
     "output_type": "stream",
     "text": [
      "10\n",
      "20\n",
      "40\n",
      "50\n",
      "70\n",
      "80\n",
      "i am from else part\n",
      "program executed\n"
     ]
    }
   ],
   "source": [
    "#continue ex1:-\n",
    "\n",
    "lst=[10,20,30,40,50,60,70,80]\n",
    "for val in lst:\n",
    "    if(30==val) or (val==60):\n",
    "        continue\n",
    "    print(val)\n",
    "else:\n",
    "    print(\"i am from else part\")\n",
    "print(\"program executed\")    "
   ]
  },
  {
   "cell_type": "code",
   "execution_count": 22,
   "metadata": {},
   "outputs": [
    {
     "name": "stdout",
     "output_type": "stream",
     "text": [
      "given line: PYTHON PROGRAMMING LANGUAGE\n",
      "O\n",
      "O\n",
      "A\n",
      "I\n",
      "A\n",
      "U\n",
      "A\n",
      "E\n"
     ]
    }
   ],
   "source": [
    "#continue ex2:- using while loop\n",
    "s=\"PYTHON PROGRAMMING LANGUAGE\"\n",
    "print(\"given line:\",s)\n",
    "i=0\n",
    "while (i<len(s)):\n",
    "    if(s[i] not in ['A','E','I','O','U'] ):\n",
    "        i=i+1\n",
    "        continue\n",
    "    print(s[i])\n",
    "    i=i+1"
   ]
  },
  {
   "cell_type": "code",
   "execution_count": 25,
   "metadata": {},
   "outputs": [
    {
     "name": "stdout",
     "output_type": "stream",
     "text": [
      "python programming language \n",
      "o\n",
      "o\n",
      "a\n",
      "i\n",
      "a\n",
      "u\n",
      "a\n",
      "e\n"
     ]
    }
   ],
   "source": [
    "#CONTINUE EX3:- using for loop\n",
    "s=\"python programming language \"\n",
    "print(s)\n",
    "i=0\n",
    "for ch in s:\n",
    "    if (ch not in ['a','e','i','o','u']) or (s[i]==\"\"):\n",
    "        continue\n",
    "    print(ch)    "
   ]
  },
  {
   "cell_type": "code",
   "execution_count": null,
   "metadata": {},
   "outputs": [],
   "source": []
  }
 ],
 "metadata": {
  "kernelspec": {
   "display_name": "Python 3",
   "language": "python",
   "name": "python3"
  },
  "language_info": {
   "codemirror_mode": {
    "name": "ipython",
    "version": 3
   },
   "file_extension": ".py",
   "mimetype": "text/x-python",
   "name": "python",
   "nbconvert_exporter": "python",
   "pygments_lexer": "ipython3",
   "version": "3.8.5"
  }
 },
 "nbformat": 4,
 "nbformat_minor": 4
}
