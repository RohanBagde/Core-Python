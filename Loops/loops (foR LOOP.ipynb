{
 "cells": [
  {
   "cell_type": "code",
   "execution_count": 4,
   "metadata": {},
   "outputs": [
    {
     "name": "stdout",
     "output_type": "stream",
     "text": [
      "jonh\n",
      "batista\n",
      "goldberg\n",
      "randy\n"
     ]
    }
   ],
   "source": [
    "#loop on list\n",
    "\n",
    "\n",
    "\n",
    "lst=[\"jonh\", \"batista\", \"goldberg\", \"randy\"]\n",
    "for item in lst: \n",
    "    print(item)"
   ]
  },
  {
   "cell_type": "code",
   "execution_count": 8,
   "metadata": {},
   "outputs": [
    {
     "name": "stdout",
     "output_type": "stream",
     "text": [
      "jonh win  matches:- 50\n",
      "batista win  matches:- 40\n",
      "goldberg win  matches:- 65\n",
      "randy win  matches:- 90\n"
     ]
    }
   ],
   "source": [
    "# loop on list of list\n",
    "\n",
    "\n",
    "lst=[[\"jonh\", 50], [\"batista\", 40], [\"goldberg\", 65], [\"randy\", 90]]\n",
    "for item, match in lst:\n",
    "    print(item, \"win  matches:-\", match)\n"
   ]
  },
  {
   "cell_type": "code",
   "execution_count": 13,
   "metadata": {},
   "outputs": [
    {
     "name": "stdout",
     "output_type": "stream",
     "text": [
      "{'jonh': 50, 'batista': 40, 'goldberg': 65, 'randy': 90} <class 'dict'>\n",
      "('jonh', 50)('batista', 40)('goldberg', 65)('randy', 90)"
     ]
    }
   ],
   "source": [
    "# loop for dict\n",
    "\n",
    "lst=[[\"jonh\", 50], [\"batista\", 40], [\"goldberg\", 65], [\"randy\", 90]]\n",
    "dict1=dict(lst)\n",
    "print(dict1,type(dict1))\n",
    "# list is converted into dict\n",
    "for item in dict1.items():\n",
    "    print(item, end=\"\")"
   ]
  },
  {
   "cell_type": "code",
   "execution_count": 16,
   "metadata": {},
   "outputs": [
    {
     "name": "stderr",
     "output_type": "stream",
     "text": [
      "'pwd' is not recognized as an internal or external command,\n",
      "operable program or batch file.\n"
     ]
    }
   ],
   "source": [
    "!pwd\n",
    "\n",
    "\n",
    "\n",
    "\n"
   ]
  },
  {
   "cell_type": "code",
   "execution_count": null,
   "metadata": {},
   "outputs": [],
   "source": []
  }
 ],
 "metadata": {
  "kernelspec": {
   "display_name": "Python 3",
   "language": "python",
   "name": "python3"
  },
  "language_info": {
   "codemirror_mode": {
    "name": "ipython",
    "version": 3
   },
   "file_extension": ".py",
   "mimetype": "text/x-python",
   "name": "python",
   "nbconvert_exporter": "python",
   "pygments_lexer": "ipython3",
   "version": "3.8.5"
  }
 },
 "nbformat": 4,
 "nbformat_minor": 4
}
