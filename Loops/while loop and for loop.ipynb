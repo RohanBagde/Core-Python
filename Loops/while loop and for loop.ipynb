{
 "cells": [
  {
   "cell_type": "markdown",
   "metadata": {},
   "source": [
    "# while"
   ]
  },
  {
   "cell_type": "code",
   "execution_count": 6,
   "metadata": {},
   "outputs": [
    {
     "name": "stdout",
     "output_type": "stream",
     "text": [
      "10\n"
     ]
    }
   ],
   "source": [
    "x=0\n",
    "while(x<10):\n",
    "    x=x+1\n",
    "print(x)    \n"
   ]
  },
  {
   "cell_type": "code",
   "execution_count": 8,
   "metadata": {},
   "outputs": [
    {
     "name": "stdout",
     "output_type": "stream",
     "text": [
      "12.5\n"
     ]
    }
   ],
   "source": [
    "error=50\n",
    "while error>0:\n",
    "    error=error/4\n",
    "    print(error)\n",
    "    break"
   ]
  },
  {
   "cell_type": "code",
   "execution_count": 18,
   "metadata": {},
   "outputs": [
    {
     "name": "stdout",
     "output_type": "stream",
     "text": [
      "enter the number10\n",
      "correcting....\n",
      "9\n",
      "correcting....\n",
      "8\n",
      "correcting....\n",
      "7\n",
      "correcting....\n",
      "6\n",
      "correcting....\n",
      "5\n",
      "correcting....\n",
      "4\n",
      "correcting....\n",
      "3\n",
      "correcting....\n",
      "2\n",
      "correcting....\n",
      "1\n",
      "correcting....\n",
      "0\n"
     ]
    }
   ],
   "source": [
    "a=int(input(\"enter the number\"))\n",
    "while a!=0:\n",
    "    print(\"correcting....\")\n",
    "    a= a-1\n",
    "    print(a)"
   ]
  },
  {
   "cell_type": "code",
   "execution_count": 4,
   "metadata": {},
   "outputs": [
    {
     "name": "stdout",
     "output_type": "stream",
     "text": [
      "enter the number10\n",
      "11\n",
      "12\n",
      "13\n",
      "14\n",
      "15\n",
      "16\n",
      "17\n",
      "18\n",
      "19\n",
      "20\n"
     ]
    }
   ],
   "source": [
    "a=int(input(\"enter the number\"))\n",
    "i=0\n",
    "for i in range(10,20):\n",
    "    i=i+1\n",
    "    print(i)"
   ]
  },
  {
   "cell_type": "code",
   "execution_count": 4,
   "metadata": {},
   "outputs": [
    {
     "name": "stdout",
     "output_type": "stream",
     "text": [
      "enter the number5\n",
      "sum of natural number (5, 15)\n"
     ]
    }
   ],
   "source": [
    "#calculating total sum\n",
    "n=int(input(\"enter the number\"))\n",
    "if n<=0:\n",
    "    print(\"enter positive interger\")\n",
    "else:\n",
    "    i=1\n",
    "    total=0\n",
    "    while (i<=n):\n",
    "        total=total+i\n",
    "        i=i+1\n",
    "    print(\"sum of natural number\",(n,total)) \n",
    "      "
   ]
  },
  {
   "cell_type": "code",
   "execution_count": 6,
   "metadata": {},
   "outputs": [
    {
     "name": "stdout",
     "output_type": "stream",
     "text": [
      "enter the year2001\n",
      "enter the month10\n",
      "\n",
      "-------------------------\n",
      "<module 'calendar' from 'C:\\\\ProgramData\\\\Anaconda3\\\\lib\\\\calendar.py'> 10 (2001, 10)\n"
     ]
    }
   ],
   "source": [
    "import calendar as cl\n",
    "year=int(input(\"enter the year\"))\n",
    "month=int(input(\"enter the month\"))\n",
    "print(\"\\n-------------------------\")\n",
    "print(cl,month,(year,month))"
   ]
  },
  {
   "cell_type": "code",
   "execution_count": null,
   "metadata": {},
   "outputs": [],
   "source": [
    "#NUMGENEX1\n",
    "\n",
    "n=int(input(\"enter the number\"))\n",
    "if n<=0:\n",
    "    print(\"{} is invalid input\".format(n))\n",
    "else:\n",
    "    print(\"-\"*20)\n",
    "    print(\"number within  {}\".format(n))\n",
    "    print(\"-\"*20)\n",
    "    s=0\n",
    "    i=1\n",
    "    while(i<=n):\n",
    "        print(i,end=\",\")\n",
    "        s=s+1\n",
    "        i=i+1\n",
    "    else:\n",
    "        print(\"sum={}\".format(s)) "
   ]
  }
 ],
 "metadata": {
  "kernelspec": {
   "display_name": "Python 3",
   "language": "python",
   "name": "python3"
  },
  "language_info": {
   "codemirror_mode": {
    "name": "ipython",
    "version": 3
   },
   "file_extension": ".py",
   "mimetype": "text/x-python",
   "name": "python",
   "nbconvert_exporter": "python",
   "pygments_lexer": "ipython3",
   "version": "3.8.5"
  }
 },
 "nbformat": 4,
 "nbformat_minor": 4
}
